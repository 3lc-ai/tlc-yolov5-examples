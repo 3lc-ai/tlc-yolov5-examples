{
 "cells": [
  {
   "cell_type": "markdown",
   "metadata": {},
   "source": [
    "# Setup\n",
    "\n",
    "The first step is to clone the fork, and checkout the branch with the 3LC integration. Set your preferred path, and the next cells will get it cloned and set up."
   ]
  },
  {
   "cell_type": "code",
   "execution_count": null,
   "metadata": {},
   "outputs": [],
   "source": [
    "YOLOV5_PATH = \"../../tlc-yolov5\"\n",
    "TLC_PATH = \"../../tlc-monorepo\""
   ]
  },
  {
   "cell_type": "code",
   "execution_count": null,
   "metadata": {},
   "outputs": [],
   "source": [
    "from pathlib import Path\n",
    "YOLOV5_PATH = Path(YOLOV5_PATH).resolve().as_posix()\n",
    "TLC_PATH = Path(TLC_PATH).resolve().as_posix()"
   ]
  },
  {
   "cell_type": "code",
   "execution_count": null,
   "metadata": {},
   "outputs": [],
   "source": [
    "%cd \"{YOLOV5_PATH}\""
   ]
  },
  {
   "cell_type": "code",
   "execution_count": null,
   "metadata": {},
   "outputs": [],
   "source": [
    "!git clone \"https://3lc-ai@dev.azure.com/3lc-ai/TLC/_git/tlc-yolov5\"\n",
    "!git checkout \"feature/frederik.mellbye/tlc-integration\""
   ]
  },
  {
   "cell_type": "markdown",
   "metadata": {},
   "source": [
    "Now that we have the YOLOv5 repository with the 3LC integration cloned, we need to install the requirements."
   ]
  },
  {
   "cell_type": "code",
   "execution_count": null,
   "metadata": {},
   "outputs": [],
   "source": [
    "%pip install --upgrade pip"
   ]
  },
  {
   "cell_type": "code",
   "execution_count": null,
   "metadata": {},
   "outputs": [],
   "source": [
    "%pip install -r requirements.txt"
   ]
  },
  {
   "cell_type": "markdown",
   "metadata": {},
   "source": [
    "If you are on Windows and have a GPU it is a good idea to get the correct PyTorch."
   ]
  },
  {
   "cell_type": "code",
   "execution_count": null,
   "metadata": {},
   "outputs": [],
   "source": [
    "%pip install torchvision --index-url https://download.pytorch.org/whl/cu118 --force-reinstall"
   ]
  },
  {
   "cell_type": "code",
   "execution_count": null,
   "metadata": {},
   "outputs": [],
   "source": [
    "%pip install -e \"{TLC_PATH}\"\n",
    "%pip install poetry"
   ]
  },
  {
   "cell_type": "markdown",
   "metadata": {},
   "source": [
    "# Training\n",
    "\n",
    "With everything set up we are now ready to run training with 3LC metrics collection. Let's first take a look at the extra 3LC command line arguments."
   ]
  },
  {
   "cell_type": "code",
   "execution_count": null,
   "metadata": {},
   "outputs": [],
   "source": [
    "!python train.py --help"
   ]
  },
  {
   "cell_type": "markdown",
   "metadata": {},
   "source": [
    "Lets train a YOLOv5n model on COCO128 for ten epochs, collecting metrics every five epochs starting after the fifth. 3LC will automatically read the dataset, and present it back to YOLOv5 which performs training and calls metrics collection. This will result in two 3LC Tables, for the train and validation splits, along with a Run associated with the Tables which contains the collected metrics."
   ]
  },
  {
   "cell_type": "code",
   "execution_count": null,
   "metadata": {},
   "outputs": [],
   "source": [
    "!python train.py --img 640 --batch 32 --epochs 10 --data coco128.yaml --weights yolov5n.pt --nosave --tlc-mc-start 4 --tlc-mc-interval 5 --device 0"
   ]
  },
  {
   "cell_type": "markdown",
   "metadata": {},
   "source": [
    "In order to run with your own data, simply point to your dataset YAML file `--data <path to your dataset yaml>`. Once you make changes to your data, use the `--tlc-train-revision` argument and point to your revision `json` file."
   ]
  },
  {
   "cell_type": "markdown",
   "metadata": {},
   "source": [
    "It is also possible to collect metrics independently of training with `collect.py`."
   ]
  },
  {
   "cell_type": "code",
   "execution_count": null,
   "metadata": {},
   "outputs": [],
   "source": [
    "!python collect.py --help"
   ]
  },
  {
   "cell_type": "code",
   "execution_count": null,
   "metadata": {},
   "outputs": [],
   "source": [
    "!python collect.py --data coco128.yaml --weights yolov5n.pt --img 640 --device 0"
   ]
  },
  {
   "cell_type": "markdown",
   "metadata": {},
   "source": [
    "Now you should see both your runs in the 3LC Dashboard, look for the names you see in the outputs above."
   ]
  }
 ],
 "metadata": {
  "kernelspec": {
   "display_name": ".venv",
   "language": "python",
   "name": "python3"
  },
  "language_info": {
   "codemirror_mode": {
    "name": "ipython",
    "version": 3
   },
   "file_extension": ".py",
   "mimetype": "text/x-python",
   "name": "python",
   "nbconvert_exporter": "python",
   "pygments_lexer": "ipython3",
   "version": "3.8.10"
  },
  "orig_nbformat": 4
 },
 "nbformat": 4,
 "nbformat_minor": 2
}
